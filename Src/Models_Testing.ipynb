{
 "cells": [
  {
   "cell_type": "code",
   "execution_count": 1,
   "metadata": {},
   "outputs": [],
   "source": [
    "import preprocess_text\n",
    "import tensorflow as tf\n",
    "from tensorflow.keras.preprocessing.sequence import pad_sequences\n",
    "from tensorflow.keras.preprocessing.text import Tokenizer\n",
    "from tensorflow.keras.models import load_model\n",
    "import pickle"
   ]
  },
  {
   "cell_type": "code",
   "execution_count": 2,
   "metadata": {},
   "outputs": [],
   "source": [
    "tf_idf = pickle.load(open('../Pretrained_Models/tfidf_tokenizer.pkl','rb'))\n",
    "rf_model = pickle.load(open('../Pretrained_Models/random_forest.pkl','rb'))"
   ]
  },
  {
   "cell_type": "code",
   "execution_count": 3,
   "metadata": {},
   "outputs": [],
   "source": [
    "tokenizer = pickle.load(open('../Pretrained_Models/tf_tokenizer.pkl','rb'))\n",
    "model = load_model('../Pretrained_Models/lstm.h5',compile=False)"
   ]
  },
  {
   "cell_type": "code",
   "execution_count": 4,
   "metadata": {},
   "outputs": [],
   "source": [
    "def predict_ml(text):\n",
    "    new_text = preprocess_text.clean_text(text)\n",
    "    vec = tf_idf.transform([new_text])\n",
    "    res = rf_model.predict(vec)\n",
    "    return res "
   ]
  },
  {
   "cell_type": "code",
   "execution_count": 5,
   "metadata": {},
   "outputs": [],
   "source": [
    "def predict_dl(text):\n",
    "    new_text = preprocess_text.clean_text(text)\n",
    "    sequence = tokenizer.texts_to_sequences([new_text])\n",
    "    padded_sequence = pad_sequences(sequence,padding='post',)\n",
    "    res = model.predict(padded_sequence)\n",
    "    return res[0]"
   ]
  },
  {
   "cell_type": "code",
   "execution_count": 6,
   "metadata": {
    "scrolled": false
   },
   "outputs": [
    {
     "name": "stdout",
     "output_type": "stream",
     "text": [
      "i am watching a suicide movie :False\n",
      "i dont want to live any more :True\n",
      "she commited suicide :True\n",
      "Do you like to go out for a movie :False\n",
      "\n",
      " \n",
      "\n",
      "i am watching a suicide movie :0\n",
      "i dont want to live any more :1\n",
      "she commited suicide :1\n",
      "Do you like to go out for a movie :0\n"
     ]
    }
   ],
   "source": [
    "text = ['i am watching a suicide movie', 'i dont want to live any more',\n",
    "        'she commited suicide', 'Do you like to go out for a movie']\n",
    "\n",
    "for t in text:\n",
    "    res = predict_dl(t)\n",
    "    res = res > 0.5\n",
    "    print(\"{} :{}\".format(t, res[0]))\n",
    "\n",
    "print(\"\\n \\n\")\n",
    "\n",
    "\n",
    "for t in text:\n",
    "    res = predict_ml(t)\n",
    "    print(\"{} :{}\".format(t, res[0]))"
   ]
  }
 ],
 "metadata": {
  "kernelspec": {
   "display_name": "Python 3",
   "language": "python",
   "name": "python3"
  },
  "language_info": {
   "codemirror_mode": {
    "name": "ipython",
    "version": 3
   },
   "file_extension": ".py",
   "mimetype": "text/x-python",
   "name": "python",
   "nbconvert_exporter": "python",
   "pygments_lexer": "ipython3",
   "version": "3.7.4"
  }
 },
 "nbformat": 4,
 "nbformat_minor": 2
}
