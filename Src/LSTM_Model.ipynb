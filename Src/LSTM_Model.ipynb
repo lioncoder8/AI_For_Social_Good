{
  "nbformat": 4,
  "nbformat_minor": 0,
  "metadata": {
    "colab": {
      "name": "LSTM_Model.ipynb",
      "provenance": [],
      "collapsed_sections": []
    },
    "kernelspec": {
      "name": "python3",
      "display_name": "Python 3"
    },
    "accelerator": "GPU"
  },
  "cells": [
    {
      "cell_type": "code",
      "metadata": {
        "id": "4uvat8JKcund"
      },
      "source": [
        "import pandas as pd\n",
        "import numpy as np\n",
        "import tensorflow as tf\n",
        "from tensorflow.keras.models import Sequential\n",
        "from tensorflow.keras.layers import LSTM, Dense, Embedding, Dropout, Bidirectional\n",
        "from tensorflow.keras.preprocessing.text import Tokenizer\n",
        "from tensorflow.keras.preprocessing.sequence import pad_sequences\n",
        "from sklearn.model_selection import train_test_split\n",
        "from sklearn.metrics import classification_report, confusion_matrix\n",
        "import matplotlib.pyplot as plt\n",
        "%matplotlib inline"
      ],
      "execution_count": 1,
      "outputs": []
    },
    {
      "cell_type": "code",
      "metadata": {
        "id": "kdkmSTb1fLy_"
      },
      "source": [
        "df = pd.read_csv('https://raw.githubusercontent.com/soumyajit4419/AI_For_Social_Good/master/Dataset/mergedData.csv?token=AK7VCIERPG353P22MNQU4KDAJIQRQ')"
      ],
      "execution_count": 2,
      "outputs": []
    },
    {
      "cell_type": "code",
      "metadata": {
        "colab": {
          "base_uri": "https://localhost:8080/",
          "height": 197
        },
        "id": "nXdFbYvfhO5X",
        "outputId": "ce36ec58-9b2e-431e-c8ea-4fa1cadd123b"
      },
      "source": [
        "df.head()"
      ],
      "execution_count": 3,
      "outputs": [
        {
          "output_type": "execute_result",
          "data": {
            "text/html": [
              "<div>\n",
              "<style scoped>\n",
              "    .dataframe tbody tr th:only-of-type {\n",
              "        vertical-align: middle;\n",
              "    }\n",
              "\n",
              "    .dataframe tbody tr th {\n",
              "        vertical-align: top;\n",
              "    }\n",
              "\n",
              "    .dataframe thead th {\n",
              "        text-align: right;\n",
              "    }\n",
              "</style>\n",
              "<table border=\"1\" class=\"dataframe\">\n",
              "  <thead>\n",
              "    <tr style=\"text-align: right;\">\n",
              "      <th></th>\n",
              "      <th>text</th>\n",
              "      <th>label</th>\n",
              "    </tr>\n",
              "  </thead>\n",
              "  <tbody>\n",
              "    <tr>\n",
              "      <th>0</th>\n",
              "      <td>truly wanted kill wasn seeking attention  d t...</td>\n",
              "      <td>1</td>\n",
              "    </tr>\n",
              "    <tr>\n",
              "      <th>1</th>\n",
              "      <td>girlfriend killed week broke hello  know start...</td>\n",
              "      <td>1</td>\n",
              "    </tr>\n",
              "    <tr>\n",
              "      <th>2</th>\n",
              "      <td>want die want kill wish stop existing</td>\n",
              "      <td>1</td>\n",
              "    </tr>\n",
              "    <tr>\n",
              "      <th>3</th>\n",
              "      <td>raped girlfriend  feeling like giving     know...</td>\n",
              "      <td>1</td>\n",
              "    </tr>\n",
              "    <tr>\n",
              "      <th>4</th>\n",
              "      <td>suicide permanent solution temporary problem ...</td>\n",
              "      <td>1</td>\n",
              "    </tr>\n",
              "  </tbody>\n",
              "</table>\n",
              "</div>"
            ],
            "text/plain": [
              "                                                text  label\n",
              "0   truly wanted kill wasn seeking attention  d t...      1\n",
              "1  girlfriend killed week broke hello  know start...      1\n",
              "2            want die want kill wish stop existing        1\n",
              "3  raped girlfriend  feeling like giving     know...      1\n",
              "4   suicide permanent solution temporary problem ...      1"
            ]
          },
          "metadata": {
            "tags": []
          },
          "execution_count": 3
        }
      ]
    },
    {
      "cell_type": "code",
      "metadata": {
        "id": "kojKnyM0hQsO"
      },
      "source": [
        "text = df['text']\n",
        "label = df['label']"
      ],
      "execution_count": 4,
      "outputs": []
    },
    {
      "cell_type": "code",
      "metadata": {
        "id": "pvsQwE2vhW6C"
      },
      "source": [
        "tokenizer = Tokenizer()\n",
        "tokenizer.fit_on_texts(text)"
      ],
      "execution_count": 5,
      "outputs": []
    },
    {
      "cell_type": "code",
      "metadata": {
        "id": "p5t6yGPHhfBM"
      },
      "source": [
        "word_index = tokenizer.word_index\n",
        "vocab_size = len(word_index) + 1"
      ],
      "execution_count": 6,
      "outputs": []
    },
    {
      "cell_type": "code",
      "metadata": {
        "id": "DlwuR1xrhtxX"
      },
      "source": [
        "sequence = tokenizer.texts_to_sequences(text)\n",
        "padded_sequence = pad_sequences(sequence,padding='post')"
      ],
      "execution_count": 7,
      "outputs": []
    },
    {
      "cell_type": "code",
      "metadata": {
        "id": "EH6wuDzoiTgi"
      },
      "source": [
        "x_train, x_test, y_train, y_test = train_test_split(padded_sequence,label,test_size=0.3,shuffle=True,random_state = 42)"
      ],
      "execution_count": 8,
      "outputs": []
    },
    {
      "cell_type": "code",
      "metadata": {
        "id": "wh5Y57O7pnGy"
      },
      "source": [
        "# Used a api of globe for faster access\n",
        "# !wget http://nlp.stanford.edu/data/glove.6B.zip\n",
        "# !unzip glove*.zip"
      ],
      "execution_count": 9,
      "outputs": []
    },
    {
      "cell_type": "code",
      "metadata": {
        "id": "5zBgZjxhucaR"
      },
      "source": [
        "embeddings_index = {};\n",
        "with open('/content/glove.6B.100d.txt') as f:\n",
        "    for line in f:\n",
        "        values = line.split();\n",
        "        word = values[0];\n",
        "        coefs = np.asarray(values[1:], dtype='float32');\n",
        "        embeddings_index[word] = coefs;\n",
        "\n",
        "embeddings_matrix = np.zeros((vocab_size,100));\n",
        "for word, i in word_index.items():\n",
        "    embedding_vector = embeddings_index.get(word);\n",
        "    if embedding_vector is not None:\n",
        "        embeddings_matrix[i] = embedding_vector;"
      ],
      "execution_count": 10,
      "outputs": []
    },
    {
      "cell_type": "code",
      "metadata": {
        "id": "7rA9h8Odk_Xx"
      },
      "source": [
        "model = Sequential()\n",
        "\n",
        "model.add(Embedding(vocab_size,100,weights=[embeddings_matrix],trainable=False))\n",
        "model.add(Bidirectional(LSTM(32,return_sequences=True)))\n",
        "model.add(Bidirectional(LSTM(32)))\n",
        "model.add(Dense(32,activation='relu'))\n",
        "model.add(Dense(1,activation='sigmoid'))"
      ],
      "execution_count": 11,
      "outputs": []
    },
    {
      "cell_type": "code",
      "metadata": {
        "colab": {
          "base_uri": "https://localhost:8080/"
        },
        "id": "JrHi-8fSl4ib",
        "outputId": "de2f818d-1477-410a-f7c4-20a1269bb733"
      },
      "source": [
        "model.summary()"
      ],
      "execution_count": 12,
      "outputs": [
        {
          "output_type": "stream",
          "text": [
            "Model: \"sequential\"\n",
            "_________________________________________________________________\n",
            "Layer (type)                 Output Shape              Param #   \n",
            "=================================================================\n",
            "embedding (Embedding)        (None, None, 100)         2078200   \n",
            "_________________________________________________________________\n",
            "bidirectional (Bidirectional (None, None, 64)          34048     \n",
            "_________________________________________________________________\n",
            "bidirectional_1 (Bidirection (None, 64)                24832     \n",
            "_________________________________________________________________\n",
            "dense (Dense)                (None, 32)                2080      \n",
            "_________________________________________________________________\n",
            "dense_1 (Dense)              (None, 1)                 33        \n",
            "=================================================================\n",
            "Total params: 2,139,193\n",
            "Trainable params: 60,993\n",
            "Non-trainable params: 2,078,200\n",
            "_________________________________________________________________\n"
          ],
          "name": "stdout"
        }
      ]
    },
    {
      "cell_type": "code",
      "metadata": {
        "id": "AH4xbidPmJSe"
      },
      "source": [
        "model.compile(optimizer='adam',loss='binary_crossentropy',metrics=['accuracy'])"
      ],
      "execution_count": 13,
      "outputs": []
    },
    {
      "cell_type": "code",
      "metadata": {
        "colab": {
          "base_uri": "https://localhost:8080/"
        },
        "id": "sFyn_F1Ul7vS",
        "outputId": "18c77c44-7fd7-4ec6-8783-9cd81157faa9"
      },
      "source": [
        "history = model.fit(x_train,y_train,batch_size=32,epochs=10,validation_data=(x_test,y_test))"
      ],
      "execution_count": 14,
      "outputs": [
        {
          "output_type": "stream",
          "text": [
            "Epoch 1/10\n",
            "248/248 [==============================] - 127s 485ms/step - loss: 0.3320 - accuracy: 0.8882 - val_loss: 0.1290 - val_accuracy: 0.9536\n",
            "Epoch 2/10\n",
            "248/248 [==============================] - 119s 480ms/step - loss: 0.1052 - accuracy: 0.9595 - val_loss: 0.1117 - val_accuracy: 0.9615\n",
            "Epoch 3/10\n",
            "248/248 [==============================] - 119s 480ms/step - loss: 0.0883 - accuracy: 0.9671 - val_loss: 0.0884 - val_accuracy: 0.9691\n",
            "Epoch 4/10\n",
            "248/248 [==============================] - 119s 480ms/step - loss: 0.0718 - accuracy: 0.9722 - val_loss: 0.0792 - val_accuracy: 0.9727\n",
            "Epoch 5/10\n",
            "248/248 [==============================] - 119s 479ms/step - loss: 0.0604 - accuracy: 0.9788 - val_loss: 0.0855 - val_accuracy: 0.9703\n",
            "Epoch 6/10\n",
            "248/248 [==============================] - 119s 480ms/step - loss: 0.0471 - accuracy: 0.9840 - val_loss: 0.0845 - val_accuracy: 0.9709\n",
            "Epoch 7/10\n",
            "248/248 [==============================] - 119s 479ms/step - loss: 0.0470 - accuracy: 0.9847 - val_loss: 0.0913 - val_accuracy: 0.9750\n",
            "Epoch 8/10\n",
            "248/248 [==============================] - 119s 479ms/step - loss: 0.0362 - accuracy: 0.9877 - val_loss: 0.0819 - val_accuracy: 0.9738\n",
            "Epoch 9/10\n",
            "248/248 [==============================] - 119s 480ms/step - loss: 0.0265 - accuracy: 0.9927 - val_loss: 0.1049 - val_accuracy: 0.9691\n",
            "Epoch 10/10\n",
            "248/248 [==============================] - 119s 480ms/step - loss: 0.0256 - accuracy: 0.9920 - val_loss: 0.1024 - val_accuracy: 0.9735\n"
          ],
          "name": "stdout"
        }
      ]
    },
    {
      "cell_type": "code",
      "metadata": {
        "colab": {
          "base_uri": "https://localhost:8080/",
          "height": 320
        },
        "id": "G2BcX26BmeVw",
        "outputId": "41c98ddc-998b-4ba2-be48-5659fbdfcb83"
      },
      "source": [
        "fig,(ax1,ax2)=plt.subplots(nrows=1,ncols=2,figsize=(18,5))\n",
        "ax1.plot(history.history['accuracy'],label='train_accuracy')\n",
        "ax1.plot(history.history['val_accuracy'],label='test_accuracy')\n",
        "ax1.legend()\n",
        "ax2.plot(history.history['loss'],label='train_loss')\n",
        "ax2.plot(history.history['val_loss'],label='test_loss')\n",
        "ax2.legend()\n",
        "plt.show()\n"
      ],
      "execution_count": 15,
      "outputs": [
        {
          "output_type": "display_data",
          "data": {
            "image/png": "[encoded data removed]",
            "text/plain": [
              "<Figure size 1296x360 with 2 Axes>"
            ]
          },
          "metadata": {
            "tags": [],
            "needs_background": "light"
          }
        }
      ]
    },
    {
      "cell_type": "code",
      "metadata": {
        "colab": {
          "base_uri": "https://localhost:8080/"
        },
        "id": "IARgrPfPm2YR",
        "outputId": "39cd34a0-9c0b-43f9-fb01-b0c59e877c9e"
      },
      "source": [
        "model.evaluate(x_test,y_test)"
      ],
      "execution_count": 16,
      "outputs": [
        {
          "output_type": "stream",
          "text": [
            "107/107 [==============================] - 21s 197ms/step - loss: 0.1024 - accuracy: 0.9735\n"
          ],
          "name": "stdout"
        },
        {
          "output_type": "execute_result",
          "data": {
            "text/plain": [
              "[0.10243203490972519, 0.9735449552536011]"
            ]
          },
          "metadata": {
            "tags": []
          },
          "execution_count": 16
        }
      ]
    },
    {
      "cell_type": "code",
      "metadata": {
        "id": "ZyPXzWXIm2a1"
      },
      "source": [
        "model.save('./lstm.h5')"
      ],
      "execution_count": 17,
      "outputs": []
    },
    {
      "cell_type": "code",
      "metadata": {
        "id": "aNaG5TtDGr-g"
      },
      "source": [
        "pred = model.predict(x_test)"
      ],
      "execution_count": 18,
      "outputs": []
    },
    {
      "cell_type": "code",
      "metadata": {
        "id": "AY5MM5fEG6o1"
      },
      "source": [
        "pred = pred>0.5"
      ],
      "execution_count": 21,
      "outputs": []
    },
    {
      "cell_type": "code",
      "metadata": {
        "colab": {
          "base_uri": "https://localhost:8080/"
        },
        "id": "4KDe0PlJGyXc",
        "outputId": "2366f59e-73bf-40e3-92f4-d33b84f5794a"
      },
      "source": [
        "print(classification_report(pred,y_test))"
      ],
      "execution_count": 23,
      "outputs": [
        {
          "output_type": "stream",
          "text": [
            "              precision    recall  f1-score   support\n",
            "\n",
            "       False       0.98      0.96      0.97      1625\n",
            "        True       0.97      0.98      0.97      1777\n",
            "\n",
            "    accuracy                           0.97      3402\n",
            "   macro avg       0.97      0.97      0.97      3402\n",
            "weighted avg       0.97      0.97      0.97      3402\n",
            "\n"
          ],
          "name": "stdout"
        }
      ]
    }
  ]
}